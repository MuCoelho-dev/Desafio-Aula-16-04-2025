{
  "nbformat": 4,
  "nbformat_minor": 0,
  "metadata": {
    "colab": {
      "provenance": [],
      "authorship_tag": "ABX9TyMkGfXmTRGs50Xi5Knp1xTC",
      "include_colab_link": true
    },
    "kernelspec": {
      "name": "python3",
      "display_name": "Python 3"
    },
    "language_info": {
      "name": "python"
    }
  },
  "cells": [
    {
      "cell_type": "markdown",
      "metadata": {
        "id": "view-in-github",
        "colab_type": "text"
      },
      "source": [
        "<a href=\"https://colab.research.google.com/github/MuCoelho-dev/Desafio-Aula-16-04-2025/blob/main/Untitled5.ipynb\" target=\"_parent\"><img src=\"https://colab.research.google.com/assets/colab-badge.svg\" alt=\"Open In Colab\"/></a>"
      ]
    },
    {
      "cell_type": "markdown",
      "source": [
        "#Desafio 1"
      ],
      "metadata": {
        "id": "LigMpiiUHLN0"
      }
    },
    {
      "cell_type": "code",
      "source": [
        "nome = \"Murilo\"\n",
        "idade = 21\n",
        "cidade = \"São Bernardo do Campo\"\n",
        "\n",
        "print(f\"Olá meu nome é {nome}. Eu tenho {idade} anos e moro em {cidade}.\")"
      ],
      "metadata": {
        "id": "qtH9aZIrLRgC"
      },
      "execution_count": null,
      "outputs": []
    },
    {
      "cell_type": "code",
      "source": [
        "from google.colab import drive\n",
        "drive.mount('/content/drive')"
      ],
      "metadata": {
        "id": "15kln7iANH-t"
      },
      "execution_count": null,
      "outputs": []
    },
    {
      "cell_type": "markdown",
      "source": [
        "#Desafio 2"
      ],
      "metadata": {
        "id": "UTqXtPSQLU96"
      }
    },
    {
      "cell_type": "code",
      "source": [
        "numeros  = [10,20,30,40,50]\n",
        "media = sum(numeros) / len(numeros)\n",
        "print(\"A media é:\",media)"
      ],
      "metadata": {
        "id": "7YFyuLioLaF5"
      },
      "execution_count": null,
      "outputs": []
    },
    {
      "cell_type": "markdown",
      "source": [
        "#Desafio 3"
      ],
      "metadata": {
        "id": "MdM10AzZLuoi"
      }
    },
    {
      "cell_type": "code",
      "execution_count": null,
      "metadata": {
        "id": "_XotmwZxDIe3"
      },
      "outputs": [],
      "source": [
        "gastos_murilo = [400, 500, 200, 800]\n",
        "gastos_giovana=[700, 600,500,700]\n",
        "\n",
        "total_murilo= sum(gastos_murilo)\n",
        "total_giovana = sum(gastos_giovana)\n",
        "\n",
        "if total_murilo > total_giovana:\n",
        "  print(\"Murilo gastou mais dinheiro que a giovana no mês.\")\n",
        "elif total_giovana > total_murilo:\n",
        "  print(\"Giovana gastou mais dinheiro que o murilo no mês.\")\n",
        "else:\n",
        "  print(\"Os dois gastaram a mesma quantidade de dinheiro no mês.\")"
      ]
    }
  ]
}